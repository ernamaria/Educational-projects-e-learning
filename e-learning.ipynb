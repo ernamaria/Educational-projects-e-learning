{
 "cells": [
  {
   "cell_type": "code",
   "execution_count": 9,
   "metadata": {},
   "outputs": [],
   "source": [
    "import pandas as pd\n",
    "import numpy as np\n",
    "import seaborn as sns\n",
    "import numpy as np\n",
    "import scipy.stats as ss\n",
    "import scipy\n",
    "import matplotlib.pyplot as plt\n",
    "import requests\n",
    "from urllib.parse import urlencode "
   ]
  },
  {
   "cell_type": "markdown",
   "metadata": {},
   "source": [
    "Чтобы считать данные использую API"
   ]
  },
  {
   "cell_type": "code",
   "execution_count": 18,
   "metadata": {},
   "outputs": [],
   "source": [
    "def get_url(public_key): \n",
    "    base_url = 'https://cloud-api.yandex.net/v1/disk/public/resources/download?'\n",
    "    final_url = base_url + urlencode(dict(public_key=public_key))\n",
    "    response = requests.get(final_url) \n",
    "    download_url = response.json()['href'] \n",
    "    return download_url"
   ]
  },
  {
   "cell_type": "code",
   "execution_count": 22,
   "metadata": {},
   "outputs": [],
   "source": [
    "assessments = pd.read_csv(get_url('https://disk.yandex.ru/d/iSVP1sZ7AdW7TQ'))\n",
    "courses = pd.read_csv(get_url('https://disk.yandex.ru/d/jmJxR8yhwCXlaw')) \n",
    "studentAssessment = pd.read_csv(get_url('https://disk.yandex.ru/d/DYd4M5b_8RETsA')) \n",
    "studentRegistration = pd.read_csv(get_url('https://disk.yandex.ru/d/lqHnH8NOZ458iw'))"
   ]
  },
  {
   "cell_type": "markdown",
   "metadata": {},
   "source": [
    "assessments.csv — этот файл содержит информацию об оценках в тесте. Обычно каждый предмет в семестре включает ряд тестов с оценками, за которыми следует заключительный экзаменационный тест (экзамен).\n",
    "\n",
    "courses.csv — файл содержит список предметов по семестрам.\n",
    "\n",
    "studentAssessment.csv — этот файл содержит результаты тестов студентов. Если учащийся не отправляет работу на оценку, результат не записывается в таблицу.\n",
    "\n",
    "studentRegistration.csv — этот файл содержит информацию о времени, когда студент зарегистрировался для прохождения курса в семестре."
   ]
  },
  {
   "cell_type": "markdown",
   "metadata": {},
   "source": [
    "# 1. Сколько студентов успешно сдали только один курс? (Успешная сдача — это зачёт по курсу на экзамене)"
   ]
  },
  {
   "cell_type": "markdown",
   "metadata": {},
   "source": [
    "Информация об оценках и типе зачета содержится в разных файлах, следовательно, сначала их нужно объединить. \n",
    "Затем отобрать только успешно сданные зачеты (\"Оценка ниже 40 неудачная/неуспешная сдача теста\", следовательно, 40 и выше - удачная). \n",
    "В задании речь идет про экзамен, поэтому фильтрую по типу теста.\n",
    "Затем нужно сгруппировать id студентов и посчитать, на какое количество курсов они записаны. \n",
    "В конце отобрать только тех студентов, которые прошли 1 курс."
   ]
  },
  {
   "cell_type": "code",
   "execution_count": 24,
   "metadata": {},
   "outputs": [],
   "source": [
    "score_assessments=assessments.merge(studentAssessment, how='inner', on='id_assessment') #объединяю фреймы"
   ]
  },
  {
   "cell_type": "code",
   "execution_count": 25,
   "metadata": {},
   "outputs": [],
   "source": [
    "successfully=score_assessments.query('score>39') ## вывела только тех, кто получил оценку 40 и больше"
   ]
  },
  {
   "cell_type": "code",
   "execution_count": 26,
   "metadata": {},
   "outputs": [],
   "source": [
    "successfully_exam=successfully.query('assessment_type==\"Exam\"') ## отбираю только тип - экзамен"
   ]
  },
  {
   "cell_type": "code",
   "execution_count": 27,
   "metadata": {},
   "outputs": [],
   "source": [
    "successfully_group=successfully_exam.groupby('id_student', as_index=False).agg({'id_assessment':'count'}) ## сгруппировала по id студентов и посчитала количество курсов"
   ]
  },
  {
   "cell_type": "code",
   "execution_count": 28,
   "metadata": {},
   "outputs": [
    {
     "data": {
      "text/html": [
       "<div>\n",
       "<style scoped>\n",
       "    .dataframe tbody tr th:only-of-type {\n",
       "        vertical-align: middle;\n",
       "    }\n",
       "\n",
       "    .dataframe tbody tr th {\n",
       "        vertical-align: top;\n",
       "    }\n",
       "\n",
       "    .dataframe thead th {\n",
       "        text-align: right;\n",
       "    }\n",
       "</style>\n",
       "<table border=\"1\" class=\"dataframe\">\n",
       "  <thead>\n",
       "    <tr style=\"text-align: right;\">\n",
       "      <th></th>\n",
       "      <th>id_student</th>\n",
       "      <th>id_assessment</th>\n",
       "    </tr>\n",
       "  </thead>\n",
       "  <tbody>\n",
       "    <tr>\n",
       "      <th>0</th>\n",
       "      <td>23698</td>\n",
       "      <td>1</td>\n",
       "    </tr>\n",
       "    <tr>\n",
       "      <th>1</th>\n",
       "      <td>24213</td>\n",
       "      <td>1</td>\n",
       "    </tr>\n",
       "    <tr>\n",
       "      <th>2</th>\n",
       "      <td>27116</td>\n",
       "      <td>1</td>\n",
       "    </tr>\n",
       "    <tr>\n",
       "      <th>3</th>\n",
       "      <td>28046</td>\n",
       "      <td>1</td>\n",
       "    </tr>\n",
       "    <tr>\n",
       "      <th>4</th>\n",
       "      <td>28787</td>\n",
       "      <td>1</td>\n",
       "    </tr>\n",
       "    <tr>\n",
       "      <th>...</th>\n",
       "      <td>...</td>\n",
       "      <td>...</td>\n",
       "    </tr>\n",
       "    <tr>\n",
       "      <th>4092</th>\n",
       "      <td>2694886</td>\n",
       "      <td>1</td>\n",
       "    </tr>\n",
       "    <tr>\n",
       "      <th>4093</th>\n",
       "      <td>2694933</td>\n",
       "      <td>1</td>\n",
       "    </tr>\n",
       "    <tr>\n",
       "      <th>4094</th>\n",
       "      <td>2695608</td>\n",
       "      <td>1</td>\n",
       "    </tr>\n",
       "    <tr>\n",
       "      <th>4095</th>\n",
       "      <td>2697181</td>\n",
       "      <td>1</td>\n",
       "    </tr>\n",
       "    <tr>\n",
       "      <th>4096</th>\n",
       "      <td>2698251</td>\n",
       "      <td>1</td>\n",
       "    </tr>\n",
       "  </tbody>\n",
       "</table>\n",
       "<p>3802 rows × 2 columns</p>\n",
       "</div>"
      ],
      "text/plain": [
       "      id_student  id_assessment\n",
       "0          23698              1\n",
       "1          24213              1\n",
       "2          27116              1\n",
       "3          28046              1\n",
       "4          28787              1\n",
       "...          ...            ...\n",
       "4092     2694886              1\n",
       "4093     2694933              1\n",
       "4094     2695608              1\n",
       "4095     2697181              1\n",
       "4096     2698251              1\n",
       "\n",
       "[3802 rows x 2 columns]"
      ]
     },
     "execution_count": 28,
     "metadata": {},
     "output_type": "execute_result"
    }
   ],
   "source": [
    "successfully_group.query('id_assessment==\"1\"') ## отобрала только те id студентов, количество курсов которых равно 1"
   ]
  },
  {
   "cell_type": "markdown",
   "metadata": {},
   "source": [
    "3802 студентов успешно сдали только один курс"
   ]
  },
  {
   "cell_type": "markdown",
   "metadata": {},
   "source": [
    "##      2. Выяви самый сложный и самый простой экзамен: найди курсы и экзамены в рамках курса, которые обладают самой низкой и самой высокой завершаемостью*. "
   ]
  },
  {
   "cell_type": "markdown",
   "metadata": {},
   "source": [
    "В этом задании речь снова идет об экзамене, поэтому фильтрую по нему.\n",
    "Объединение таблиц с типом зачета и оценками было выше, \n",
    "поэтому использую эту же переменную. Также отбираю успешно сданные экзамены (от 40 score).\n",
    "У меня нет информации о том, сколько один студент может сделать попыток сдать экзамен. Я делаю вывод, что одну.\n",
    "Следовательно, у каждого студента будет по одной оценке.\n",
    "Поэтому можно сгруппировать по id курса и посчитать количество оценок для всех попыток и для успешно сданных экзаменов.\n",
    "\"завершаемость = кол-во успешных экзаменов / кол-во всех попыток сдать экзамен\""
   ]
  },
  {
   "cell_type": "code",
   "execution_count": 29,
   "metadata": {},
   "outputs": [],
   "source": [
    "Exam=score_assessments.query('assessment_type==\"Exam\"')  ## отобрала только экзамены"
   ]
  },
  {
   "cell_type": "code",
   "execution_count": 30,
   "metadata": {},
   "outputs": [],
   "source": [
    "successfully_exam=Exam.query('score>39') ## отобрала успешно сданные экзамены"
   ]
  },
  {
   "cell_type": "code",
   "execution_count": 31,
   "metadata": {},
   "outputs": [],
   "source": [
    "all=Exam.groupby('id_assessment').agg({'score':'count'}) ## группирую курсы и вычисляю количество всех попыток"
   ]
  },
  {
   "cell_type": "code",
   "execution_count": 32,
   "metadata": {},
   "outputs": [],
   "source": [
    "success=successfully_exam.groupby('id_assessment').agg({'score':'count'}) ## группирую курсы и вычисляю количество успешно сданных экзаменов"
   ]
  },
  {
   "cell_type": "code",
   "execution_count": 33,
   "metadata": {
    "scrolled": true
   },
   "outputs": [
    {
     "data": {
      "text/plain": [
       "id_assessment\n",
       "24290    0.888889\n",
       "24299    0.872432\n",
       "25340    0.837209\n",
       "25354    0.907025\n",
       "25361    0.925573\n",
       "25368    0.886316\n",
       "Name: score, dtype: float64"
      ]
     },
     "execution_count": 33,
     "metadata": {},
     "output_type": "execute_result"
    }
   ],
   "source": [
    "success.score/all.score ## считаю завершаемость"
   ]
  },
  {
   "cell_type": "markdown",
   "metadata": {},
   "source": [
    "Самый сложный экзамен в курсе (с низкой завершаемостью) - 25340"
   ]
  },
  {
   "cell_type": "markdown",
   "metadata": {},
   "source": [
    "Самый простой экзамен в курсе (с высокой завершаемостью) - 25361"
   ]
  },
  {
   "cell_type": "markdown",
   "metadata": {},
   "source": [
    "##      3. По каждому предмету определи средний срок сдачи экзаменов (под сдачей понимаем последнее успешное прохождение экзамена студентом). "
   ]
  },
  {
   "cell_type": "markdown",
   "metadata": {},
   "source": [
    "Успешно сданные экзамены посчитала в предыдущих заданиях, беру ту же переменную. Проверяю количество пропущенных значений,\n",
    "чтобы понимать, как будет считаться среднее. К счастью, в интересующих меня колонках их нет.\n",
    "\"date_submitted — дата сдачи теста студентом, измеряемая как количество дней с начала семестра\".\n",
    "Группирую по id курса и считаю среднее по date_submitted"
   ]
  },
  {
   "cell_type": "code",
   "execution_count": 34,
   "metadata": {},
   "outputs": [
    {
     "data": {
      "text/plain": [
       "code_module             0\n",
       "code_presentation       0\n",
       "id_assessment           0\n",
       "assessment_type         0\n",
       "date                 2525\n",
       "weight                  0\n",
       "id_student              0\n",
       "date_submitted          0\n",
       "is_banked               0\n",
       "score                   0\n",
       "dtype: int64"
      ]
     },
     "execution_count": 34,
     "metadata": {},
     "output_type": "execute_result"
    }
   ],
   "source": [
    "successfully_exam.isna().sum() ## беру уже отсортированные успешно сданные экзамены и проверяю количество пропущенных значений"
   ]
  },
  {
   "cell_type": "code",
   "execution_count": 35,
   "metadata": {},
   "outputs": [
    {
     "data": {
      "text/html": [
       "<div>\n",
       "<style scoped>\n",
       "    .dataframe tbody tr th:only-of-type {\n",
       "        vertical-align: middle;\n",
       "    }\n",
       "\n",
       "    .dataframe tbody tr th {\n",
       "        vertical-align: top;\n",
       "    }\n",
       "\n",
       "    .dataframe thead th {\n",
       "        text-align: right;\n",
       "    }\n",
       "</style>\n",
       "<table border=\"1\" class=\"dataframe\">\n",
       "  <thead>\n",
       "    <tr style=\"text-align: right;\">\n",
       "      <th></th>\n",
       "      <th>date_submitted</th>\n",
       "    </tr>\n",
       "    <tr>\n",
       "      <th>id_assessment</th>\n",
       "      <th></th>\n",
       "    </tr>\n",
       "  </thead>\n",
       "  <tbody>\n",
       "    <tr>\n",
       "      <th>24290</th>\n",
       "      <td>231.581325</td>\n",
       "    </tr>\n",
       "    <tr>\n",
       "      <th>24299</th>\n",
       "      <td>244.404318</td>\n",
       "    </tr>\n",
       "    <tr>\n",
       "      <th>25340</th>\n",
       "      <td>230.164683</td>\n",
       "    </tr>\n",
       "    <tr>\n",
       "      <th>25354</th>\n",
       "      <td>239.509112</td>\n",
       "    </tr>\n",
       "    <tr>\n",
       "      <th>25361</th>\n",
       "      <td>234.936082</td>\n",
       "    </tr>\n",
       "    <tr>\n",
       "      <th>25368</th>\n",
       "      <td>242.804038</td>\n",
       "    </tr>\n",
       "  </tbody>\n",
       "</table>\n",
       "</div>"
      ],
      "text/plain": [
       "               date_submitted\n",
       "id_assessment                \n",
       "24290              231.581325\n",
       "24299              244.404318\n",
       "25340              230.164683\n",
       "25354              239.509112\n",
       "25361              234.936082\n",
       "25368              242.804038"
      ]
     },
     "execution_count": 35,
     "metadata": {},
     "output_type": "execute_result"
    }
   ],
   "source": [
    "successfully_exam.groupby('id_assessment').agg({'date_submitted': 'mean'}) ## группирую по курсам и считаю среднее"
   ]
  },
  {
   "cell_type": "markdown",
   "metadata": {},
   "source": [
    "##  4. Выявить самые популярные предметы (ТОП-3) по количеству регистраций на них. А также предметы с самым большим оттоком (ТОП-3). "
   ]
  },
  {
   "cell_type": "markdown",
   "metadata": {},
   "source": [
    "В studentRegistration нет данных о предметах, поэтому объединяю с studentAssessment.\n",
    "Далее группирую code_module (предметы) и считаю количество регистраций на них. Делаю это через count, так как даты логичнее \n",
    "считать через количество строк.\n",
    "Затем вывожу топ-3, сортируя количество регистраций по убыванию.\n",
    "Также считаю топ-3 предмета с самым большим оттоком (\"date_unregistration — дата отмены регистрации студента с предмета\")"
   ]
  },
  {
   "cell_type": "code",
   "execution_count": 36,
   "metadata": {},
   "outputs": [],
   "source": [
    "registration=studentRegistration.merge(studentAssessment, how='inner', on='id_student') ## объединила таблицы, чтобы получить даты регистрации и номера курсов"
   ]
  },
  {
   "cell_type": "code",
   "execution_count": 37,
   "metadata": {},
   "outputs": [],
   "source": [
    "registration_group=registration.groupby('code_module', as_index=False).agg({'date_registration':'count'}) ## сгруппировала и посчитала количество"
   ]
  },
  {
   "cell_type": "code",
   "execution_count": 38,
   "metadata": {},
   "outputs": [
    {
     "data": {
      "text/html": [
       "<div>\n",
       "<style scoped>\n",
       "    .dataframe tbody tr th:only-of-type {\n",
       "        vertical-align: middle;\n",
       "    }\n",
       "\n",
       "    .dataframe tbody tr th {\n",
       "        vertical-align: top;\n",
       "    }\n",
       "\n",
       "    .dataframe thead th {\n",
       "        text-align: right;\n",
       "    }\n",
       "</style>\n",
       "<table border=\"1\" class=\"dataframe\">\n",
       "  <thead>\n",
       "    <tr style=\"text-align: right;\">\n",
       "      <th></th>\n",
       "      <th>code_module</th>\n",
       "      <th>date_registration</th>\n",
       "    </tr>\n",
       "  </thead>\n",
       "  <tbody>\n",
       "    <tr>\n",
       "      <th>5</th>\n",
       "      <td>FFF</td>\n",
       "      <td>60433</td>\n",
       "    </tr>\n",
       "    <tr>\n",
       "      <th>1</th>\n",
       "      <td>BBB</td>\n",
       "      <td>45166</td>\n",
       "    </tr>\n",
       "    <tr>\n",
       "      <th>3</th>\n",
       "      <td>DDD</td>\n",
       "      <td>37433</td>\n",
       "    </tr>\n",
       "  </tbody>\n",
       "</table>\n",
       "</div>"
      ],
      "text/plain": [
       "  code_module  date_registration\n",
       "5         FFF              60433\n",
       "1         BBB              45166\n",
       "3         DDD              37433"
      ]
     },
     "execution_count": 38,
     "metadata": {},
     "output_type": "execute_result"
    }
   ],
   "source": [
    "registration_group.sort_values('date_registration', ascending=False).head(3) ## отсортировала по убыванию и вывела топ-3"
   ]
  },
  {
   "cell_type": "code",
   "execution_count": 39,
   "metadata": {},
   "outputs": [],
   "source": [
    "unregistration_group=registration.groupby('code_module', as_index=False).agg({'date_unregistration':'count'}) ## сгруппировала и посчитала количество"
   ]
  },
  {
   "cell_type": "code",
   "execution_count": 40,
   "metadata": {},
   "outputs": [
    {
     "data": {
      "text/html": [
       "<div>\n",
       "<style scoped>\n",
       "    .dataframe tbody tr th:only-of-type {\n",
       "        vertical-align: middle;\n",
       "    }\n",
       "\n",
       "    .dataframe tbody tr th {\n",
       "        vertical-align: top;\n",
       "    }\n",
       "\n",
       "    .dataframe thead th {\n",
       "        text-align: right;\n",
       "    }\n",
       "</style>\n",
       "<table border=\"1\" class=\"dataframe\">\n",
       "  <thead>\n",
       "    <tr style=\"text-align: right;\">\n",
       "      <th></th>\n",
       "      <th>code_module</th>\n",
       "      <th>date_unregistration</th>\n",
       "    </tr>\n",
       "  </thead>\n",
       "  <tbody>\n",
       "    <tr>\n",
       "      <th>2</th>\n",
       "      <td>CCC</td>\n",
       "      <td>8729</td>\n",
       "    </tr>\n",
       "    <tr>\n",
       "      <th>3</th>\n",
       "      <td>DDD</td>\n",
       "      <td>5849</td>\n",
       "    </tr>\n",
       "    <tr>\n",
       "      <th>5</th>\n",
       "      <td>FFF</td>\n",
       "      <td>5722</td>\n",
       "    </tr>\n",
       "  </tbody>\n",
       "</table>\n",
       "</div>"
      ],
      "text/plain": [
       "  code_module  date_unregistration\n",
       "2         CCC                 8729\n",
       "3         DDD                 5849\n",
       "5         FFF                 5722"
      ]
     },
     "execution_count": 40,
     "metadata": {},
     "output_type": "execute_result"
    }
   ],
   "source": [
    "unregistration_group.sort_values('date_unregistration', ascending=False).head(3) ## отсортировала по убыванию и вывела топ-3"
   ]
  },
  {
   "cell_type": "markdown",
   "metadata": {},
   "source": [
    "##    5. Используя pandas, в период с начала 2013 по конец 2014 выявить семестр с самой низкой завершаемостью курсов и самыми долгими средними сроками сдачи курсов.  "
   ]
  },
  {
   "cell_type": "markdown",
   "metadata": {},
   "source": [
    "В наших данных и так только 2013 и 2014 год, поэтому нет смысла отбирать их отдельно.\n",
    "В этом задании не нужно отбирать только экзамены, поэтому считать буду все типы теста.\n",
    "Но по-преждему нужно фильтровать по score 40+, так как только такие курсы считаются сданными.\n",
    "Группирую по семестрам и считаю среднее по количеству дней от начала семестра до сдачи теста.\n",
    "Группирую по семестрам и использую count, так как нам нужно посчитать количество попыток, а не сумму.\n",
    "Завершаемость считаю как кол-во успешных тестов / кол-во всех попыток сдать тест.\n",
    "Далее сортирую по нужным колонкам, чтобы выявить средний срок сдачи курсов и завершаемость"
   ]
  },
  {
   "cell_type": "code",
   "execution_count": 41,
   "metadata": {},
   "outputs": [
    {
     "data": {
      "text/plain": [
       "array(['2013J', '2014J', '2014B', '2013B'], dtype=object)"
      ]
     },
     "execution_count": 41,
     "metadata": {},
     "output_type": "execute_result"
    }
   ],
   "source": [
    "pd.unique(registration.code_presentation)"
   ]
  },
  {
   "cell_type": "code",
   "execution_count": 42,
   "metadata": {},
   "outputs": [],
   "source": [
    "high_score=registration.query('score>39') ## так как нужно вычеслить курсы, а не экзамены, выбираю тех, кто успешно завершил курс"
   ]
  },
  {
   "cell_type": "code",
   "execution_count": 43,
   "metadata": {},
   "outputs": [],
   "source": [
    "group_assessment=high_score.groupby('code_presentation', as_index=False).agg({'date_registration':'mean'}) ##группирую по семестру, считаю среднее по сроку сдачи теста"
   ]
  },
  {
   "cell_type": "code",
   "execution_count": 44,
   "metadata": {},
   "outputs": [],
   "source": [
    "completion_high=high_score.groupby('code_presentation', as_index=False).agg({'score':'count'}) ##группирую по семестру, считаю успешно сданные тесты"
   ]
  },
  {
   "cell_type": "code",
   "execution_count": 45,
   "metadata": {},
   "outputs": [],
   "source": [
    "completion_all=registration.groupby('code_presentation', as_index=False).agg({'score':'count'})  ##группирую по семестру, считаю все попытки"
   ]
  },
  {
   "cell_type": "code",
   "execution_count": 46,
   "metadata": {},
   "outputs": [],
   "source": [
    "group_assessment['completion']=completion_high.score/completion_all.score ## считаю завершенность"
   ]
  },
  {
   "cell_type": "code",
   "execution_count": 47,
   "metadata": {},
   "outputs": [
    {
     "data": {
      "text/html": [
       "<div>\n",
       "<style scoped>\n",
       "    .dataframe tbody tr th:only-of-type {\n",
       "        vertical-align: middle;\n",
       "    }\n",
       "\n",
       "    .dataframe tbody tr th {\n",
       "        vertical-align: top;\n",
       "    }\n",
       "\n",
       "    .dataframe thead th {\n",
       "        text-align: right;\n",
       "    }\n",
       "</style>\n",
       "<table border=\"1\" class=\"dataframe\">\n",
       "  <thead>\n",
       "    <tr style=\"text-align: right;\">\n",
       "      <th></th>\n",
       "      <th>code_presentation</th>\n",
       "      <th>date_registration</th>\n",
       "      <th>completion</th>\n",
       "    </tr>\n",
       "  </thead>\n",
       "  <tbody>\n",
       "    <tr>\n",
       "      <th>1</th>\n",
       "      <td>2013J</td>\n",
       "      <td>-73.275130</td>\n",
       "      <td>0.961413</td>\n",
       "    </tr>\n",
       "    <tr>\n",
       "      <th>2</th>\n",
       "      <td>2014B</td>\n",
       "      <td>-68.928913</td>\n",
       "      <td>0.947563</td>\n",
       "    </tr>\n",
       "    <tr>\n",
       "      <th>3</th>\n",
       "      <td>2014J</td>\n",
       "      <td>-66.122577</td>\n",
       "      <td>0.945559</td>\n",
       "    </tr>\n",
       "    <tr>\n",
       "      <th>0</th>\n",
       "      <td>2013B</td>\n",
       "      <td>-58.199664</td>\n",
       "      <td>0.953417</td>\n",
       "    </tr>\n",
       "  </tbody>\n",
       "</table>\n",
       "</div>"
      ],
      "text/plain": [
       "  code_presentation  date_registration  completion\n",
       "1             2013J         -73.275130    0.961413\n",
       "2             2014B         -68.928913    0.947563\n",
       "3             2014J         -66.122577    0.945559\n",
       "0             2013B         -58.199664    0.953417"
      ]
     },
     "execution_count": 47,
     "metadata": {},
     "output_type": "execute_result"
    }
   ],
   "source": [
    "group_assessment.sort_values('date_registration') ## сортирую средний срок сдачи курсов: самый долгий семестр - 2013J"
   ]
  },
  {
   "cell_type": "code",
   "execution_count": 48,
   "metadata": {},
   "outputs": [
    {
     "data": {
      "text/html": [
       "<div>\n",
       "<style scoped>\n",
       "    .dataframe tbody tr th:only-of-type {\n",
       "        vertical-align: middle;\n",
       "    }\n",
       "\n",
       "    .dataframe tbody tr th {\n",
       "        vertical-align: top;\n",
       "    }\n",
       "\n",
       "    .dataframe thead th {\n",
       "        text-align: right;\n",
       "    }\n",
       "</style>\n",
       "<table border=\"1\" class=\"dataframe\">\n",
       "  <thead>\n",
       "    <tr style=\"text-align: right;\">\n",
       "      <th></th>\n",
       "      <th>code_presentation</th>\n",
       "      <th>date_registration</th>\n",
       "      <th>completion</th>\n",
       "    </tr>\n",
       "  </thead>\n",
       "  <tbody>\n",
       "    <tr>\n",
       "      <th>3</th>\n",
       "      <td>2014J</td>\n",
       "      <td>-66.122577</td>\n",
       "      <td>0.945559</td>\n",
       "    </tr>\n",
       "    <tr>\n",
       "      <th>2</th>\n",
       "      <td>2014B</td>\n",
       "      <td>-68.928913</td>\n",
       "      <td>0.947563</td>\n",
       "    </tr>\n",
       "    <tr>\n",
       "      <th>0</th>\n",
       "      <td>2013B</td>\n",
       "      <td>-58.199664</td>\n",
       "      <td>0.953417</td>\n",
       "    </tr>\n",
       "    <tr>\n",
       "      <th>1</th>\n",
       "      <td>2013J</td>\n",
       "      <td>-73.275130</td>\n",
       "      <td>0.961413</td>\n",
       "    </tr>\n",
       "  </tbody>\n",
       "</table>\n",
       "</div>"
      ],
      "text/plain": [
       "  code_presentation  date_registration  completion\n",
       "3             2014J         -66.122577    0.945559\n",
       "2             2014B         -68.928913    0.947563\n",
       "0             2013B         -58.199664    0.953417\n",
       "1             2013J         -73.275130    0.961413"
      ]
     },
     "execution_count": 48,
     "metadata": {},
     "output_type": "execute_result"
    }
   ],
   "source": [
    "group_assessment.sort_values('completion')  ## сортирую завершенность: самая низкая в семестре 2014J"
   ]
  },
  {
   "cell_type": "markdown",
   "metadata": {},
   "source": [
    "# 6. Сделать RFM-сегментацию студентов."
   ]
  },
  {
   "cell_type": "markdown",
   "metadata": {},
   "source": [
    "R - среднее время сдачи одного экзамена, F - завершаемость курсов, M - среднее количество баллов, получаемое за экзамен."
   ]
  },
  {
   "cell_type": "markdown",
   "metadata": {},
   "source": [
    "В данном задании исследуем студентов, поэтому все группировки будут по id_student. Я уже фильтровала наши данные по типу теста \n",
    "по типу теста, беру эту же переменную. Вывожу интересующие нас метрики. Создаю dataframe с этими метриками.  \n",
    "Использую функции для присвоения рангов. В RFM Score записываю полученные ранги."
   ]
  },
  {
   "cell_type": "code",
   "execution_count": 49,
   "metadata": {},
   "outputs": [],
   "source": [
    "from datetime import timedelta"
   ]
  },
  {
   "cell_type": "code",
   "execution_count": 50,
   "metadata": {},
   "outputs": [],
   "source": [
    "Recency=Exam.groupby('id_student', as_index=False).agg({'date_submitted':'mean'}) ##выше уже была фильтрация данных только с типом \"экзамен\" - беру эту переменную. Считаю среднее время сдачи по каждому предмету"
   ]
  },
  {
   "cell_type": "code",
   "execution_count": 54,
   "metadata": {},
   "outputs": [],
   "source": [
    "all_score=Exam.groupby('id_student', as_index=False).agg({'score':'count'}) ##сгруппировала по id студента, посчитала количество всех оценок"
   ]
  },
  {
   "cell_type": "code",
   "execution_count": 55,
   "metadata": {},
   "outputs": [],
   "source": [
    "Frequency=high_score.score/all_score.score"
   ]
  },
  {
   "cell_type": "code",
   "execution_count": 56,
   "metadata": {},
   "outputs": [],
   "source": [
    "high=Exam.query('score>39') ##отобрала только успешно сданные курсы"
   ]
  },
  {
   "cell_type": "code",
   "execution_count": 57,
   "metadata": {},
   "outputs": [],
   "source": [
    "high_score=high.groupby('id_student', as_index=False).agg({'score':'count'})  ##сгруппировала по id студента, посчитала количество оценок успешно сданных курсов"
   ]
  },
  {
   "cell_type": "code",
   "execution_count": 58,
   "metadata": {},
   "outputs": [],
   "source": [
    "Monetary=Exam.groupby('id_student', as_index=False).agg({'score':'mean'}) ##выше уже была фильтрация данных только с типом \"экзамен\" - беру эту переменную. Считаю среднее количество баллов"
   ]
  },
  {
   "cell_type": "code",
   "execution_count": 59,
   "metadata": {},
   "outputs": [],
   "source": [
    "rfm=Recency"
   ]
  },
  {
   "cell_type": "code",
   "execution_count": 60,
   "metadata": {},
   "outputs": [],
   "source": [
    "rfm['Monetary']=Monetary.score"
   ]
  },
  {
   "cell_type": "code",
   "execution_count": 61,
   "metadata": {},
   "outputs": [],
   "source": [
    "rfm['Frequency']=Frequency"
   ]
  },
  {
   "cell_type": "code",
   "execution_count": 62,
   "metadata": {},
   "outputs": [],
   "source": [
    "rfm=rfm.rename(columns={'date_submitted':'Recency'})"
   ]
  },
  {
   "cell_type": "code",
   "execution_count": 63,
   "metadata": {},
   "outputs": [
    {
     "data": {
      "text/plain": [
       "{'Recency': {0.2: 231.0, 0.4: 237.0, 0.6: 242.0, 0.8: 243.5},\n",
       " 'Frequency': {0.2: 1.0, 0.4: 1.0, 0.6: 1.0, 0.8: 1.0},\n",
       " 'Monetary': {0.2: 46.200000000000045, 0.4: 60.0, 0.6: 72.0, 0.8: 84.0}}"
      ]
     },
     "execution_count": 63,
     "metadata": {},
     "output_type": "execute_result"
    }
   ],
   "source": [
    "quintiles = rfm[['Recency', 'Frequency', 'Monetary']].quantile([.2, .4, .6, .8]).to_dict()\n",
    "quintiles"
   ]
  },
  {
   "cell_type": "code",
   "execution_count": 64,
   "metadata": {},
   "outputs": [],
   "source": [
    "def r_score(x):\n",
    "    if x <= quintiles['Recency'][.2]:\n",
    "        return 5\n",
    "    elif x <= quintiles['Recency'][.4]:\n",
    "        return 4\n",
    "    elif x <= quintiles['Recency'][.6]:\n",
    "        return 3\n",
    "    elif x <= quintiles['Recency'][.8]:\n",
    "        return 2\n",
    "    else:\n",
    "        return 1\n",
    "\n",
    "def fm_score(x, c):\n",
    "    if x <= quintiles[c][.2]:\n",
    "        return 1\n",
    "    elif x <= quintiles[c][.4]:\n",
    "        return 2\n",
    "    elif x <= quintiles[c][.6]:\n",
    "        return 3\n",
    "    elif x <= quintiles[c][.8]:\n",
    "        return 4\n",
    "    else:\n",
    "        return 5  "
   ]
  },
  {
   "cell_type": "code",
   "execution_count": 65,
   "metadata": {},
   "outputs": [],
   "source": [
    "rfm['R'] = rfm['Recency'].apply(lambda x: r_score(x))\n",
    "rfm['F'] = rfm['Frequency'].apply(lambda x: fm_score(x, 'Frequency'))\n",
    "rfm['M'] = rfm['Monetary'].apply(lambda x: fm_score(x, 'Monetary'))"
   ]
  },
  {
   "cell_type": "code",
   "execution_count": 66,
   "metadata": {},
   "outputs": [
    {
     "data": {
      "text/html": [
       "<div>\n",
       "<style scoped>\n",
       "    .dataframe tbody tr th:only-of-type {\n",
       "        vertical-align: middle;\n",
       "    }\n",
       "\n",
       "    .dataframe tbody tr th {\n",
       "        vertical-align: top;\n",
       "    }\n",
       "\n",
       "    .dataframe thead th {\n",
       "        text-align: right;\n",
       "    }\n",
       "</style>\n",
       "<table border=\"1\" class=\"dataframe\">\n",
       "  <thead>\n",
       "    <tr style=\"text-align: right;\">\n",
       "      <th></th>\n",
       "      <th>id_student</th>\n",
       "      <th>Recency</th>\n",
       "      <th>Monetary</th>\n",
       "      <th>Frequency</th>\n",
       "      <th>R</th>\n",
       "      <th>F</th>\n",
       "      <th>M</th>\n",
       "      <th>RFM Score</th>\n",
       "    </tr>\n",
       "  </thead>\n",
       "  <tbody>\n",
       "    <tr>\n",
       "      <th>0</th>\n",
       "      <td>23698</td>\n",
       "      <td>243.0</td>\n",
       "      <td>80.0</td>\n",
       "      <td>1.0</td>\n",
       "      <td>2</td>\n",
       "      <td>1</td>\n",
       "      <td>4</td>\n",
       "      <td>214</td>\n",
       "    </tr>\n",
       "    <tr>\n",
       "      <th>1</th>\n",
       "      <td>24213</td>\n",
       "      <td>236.0</td>\n",
       "      <td>58.0</td>\n",
       "      <td>1.0</td>\n",
       "      <td>4</td>\n",
       "      <td>1</td>\n",
       "      <td>2</td>\n",
       "      <td>412</td>\n",
       "    </tr>\n",
       "    <tr>\n",
       "      <th>2</th>\n",
       "      <td>27116</td>\n",
       "      <td>243.0</td>\n",
       "      <td>96.0</td>\n",
       "      <td>1.0</td>\n",
       "      <td>2</td>\n",
       "      <td>1</td>\n",
       "      <td>5</td>\n",
       "      <td>215</td>\n",
       "    </tr>\n",
       "    <tr>\n",
       "      <th>3</th>\n",
       "      <td>28046</td>\n",
       "      <td>237.0</td>\n",
       "      <td>40.0</td>\n",
       "      <td>1.0</td>\n",
       "      <td>4</td>\n",
       "      <td>1</td>\n",
       "      <td>1</td>\n",
       "      <td>411</td>\n",
       "    </tr>\n",
       "    <tr>\n",
       "      <th>4</th>\n",
       "      <td>28787</td>\n",
       "      <td>243.0</td>\n",
       "      <td>44.0</td>\n",
       "      <td>1.0</td>\n",
       "      <td>2</td>\n",
       "      <td>1</td>\n",
       "      <td>1</td>\n",
       "      <td>211</td>\n",
       "    </tr>\n",
       "  </tbody>\n",
       "</table>\n",
       "</div>"
      ],
      "text/plain": [
       "   id_student  Recency  Monetary  Frequency  R  F  M RFM Score\n",
       "0       23698    243.0      80.0        1.0  2  1  4       214\n",
       "1       24213    236.0      58.0        1.0  4  1  2       412\n",
       "2       27116    243.0      96.0        1.0  2  1  5       215\n",
       "3       28046    237.0      40.0        1.0  4  1  1       411\n",
       "4       28787    243.0      44.0        1.0  2  1  1       211"
      ]
     },
     "execution_count": 66,
     "metadata": {},
     "output_type": "execute_result"
    }
   ],
   "source": [
    "rfm['RFM Score'] = rfm['R'].map(str) + rfm['F'].map(str) + rfm['M'].map(str)\n",
    "rfm.head()"
   ]
  },
  {
   "cell_type": "markdown",
   "metadata": {},
   "source": [
    "Оценки RFM дают нам 5 в третьей степени = 125 сегментов. Это довольно много. \n",
    "Я выделю 9 сегментов, обединив ранги 1 и 2; 3 и 4; 5."
   ]
  },
  {
   "cell_type": "markdown",
   "metadata": {},
   "source": [
    "'losers' - сдают курсы медленно, получают плохие результаты\n",
    "\n",
    "'at risk' - сдают курсы медленно, получают средние результаты\n",
    "\n",
    "'perfectionists' - сдают курсы медленно, но получают хорошие результаты\n",
    "\n",
    "'need attention' - сдают курсы со средней скоростью и получают плохие результаты\n",
    "\n",
    "'medium' - сдают курсы со средней скоростью на средние результаты\n",
    "\n",
    "'speed up a little' - сдают курсы со средней скоростью на хорошие результаты\n",
    "\n",
    "'hurry' - сдают курсы быстро, но получают плохие результаты\n",
    "\n",
    "'have potential'  - сдают курсы быстро, получают средние результаты\n",
    "\n",
    "'excellent students' - сдают курсы быстро на хорошие результаты"
   ]
  },
  {
   "cell_type": "code",
   "execution_count": 67,
   "metadata": {},
   "outputs": [],
   "source": [
    "segt_map = {\n",
    "    r'[1-2][1-2]': 'losers',\n",
    "    r'[1-2][3-4]': 'at risk',\n",
    "    r'[1-2]5': 'perfectionists',\n",
    "    r'[3-4][1-2]': 'need attention',\n",
    "    r'[3-4][3-4]': 'medium',\n",
    "    r'[3-4]5': 'speed up a little',\n",
    "    r'5[1-2]': 'hurry',\n",
    "    r'[3-4][3-4]': 'have potential',\n",
    "    r'5[4-5]': 'excellent students'\n",
    "}\n",
    "\n",
    "rfm['Segment'] = rfm['R'].map(str) + rfm['F'].map(str)\n",
    "rfm['Segment'] = rfm['Segment'].replace(segt_map, regex=True)"
   ]
  },
  {
   "cell_type": "code",
   "execution_count": 68,
   "metadata": {},
   "outputs": [
    {
     "data": {
      "text/html": [
       "<div>\n",
       "<style scoped>\n",
       "    .dataframe tbody tr th:only-of-type {\n",
       "        vertical-align: middle;\n",
       "    }\n",
       "\n",
       "    .dataframe tbody tr th {\n",
       "        vertical-align: top;\n",
       "    }\n",
       "\n",
       "    .dataframe thead th {\n",
       "        text-align: right;\n",
       "    }\n",
       "</style>\n",
       "<table border=\"1\" class=\"dataframe\">\n",
       "  <thead>\n",
       "    <tr style=\"text-align: right;\">\n",
       "      <th></th>\n",
       "      <th>id_student</th>\n",
       "      <th>Recency</th>\n",
       "      <th>Monetary</th>\n",
       "      <th>Frequency</th>\n",
       "      <th>R</th>\n",
       "      <th>F</th>\n",
       "      <th>M</th>\n",
       "      <th>RFM Score</th>\n",
       "      <th>Segment</th>\n",
       "    </tr>\n",
       "  </thead>\n",
       "  <tbody>\n",
       "    <tr>\n",
       "      <th>0</th>\n",
       "      <td>23698</td>\n",
       "      <td>243.0</td>\n",
       "      <td>80.0</td>\n",
       "      <td>1.0</td>\n",
       "      <td>2</td>\n",
       "      <td>1</td>\n",
       "      <td>4</td>\n",
       "      <td>214</td>\n",
       "      <td>losers</td>\n",
       "    </tr>\n",
       "    <tr>\n",
       "      <th>1</th>\n",
       "      <td>24213</td>\n",
       "      <td>236.0</td>\n",
       "      <td>58.0</td>\n",
       "      <td>1.0</td>\n",
       "      <td>4</td>\n",
       "      <td>1</td>\n",
       "      <td>2</td>\n",
       "      <td>412</td>\n",
       "      <td>need attention</td>\n",
       "    </tr>\n",
       "    <tr>\n",
       "      <th>2</th>\n",
       "      <td>27116</td>\n",
       "      <td>243.0</td>\n",
       "      <td>96.0</td>\n",
       "      <td>1.0</td>\n",
       "      <td>2</td>\n",
       "      <td>1</td>\n",
       "      <td>5</td>\n",
       "      <td>215</td>\n",
       "      <td>losers</td>\n",
       "    </tr>\n",
       "    <tr>\n",
       "      <th>3</th>\n",
       "      <td>28046</td>\n",
       "      <td>237.0</td>\n",
       "      <td>40.0</td>\n",
       "      <td>1.0</td>\n",
       "      <td>4</td>\n",
       "      <td>1</td>\n",
       "      <td>1</td>\n",
       "      <td>411</td>\n",
       "      <td>need attention</td>\n",
       "    </tr>\n",
       "    <tr>\n",
       "      <th>4</th>\n",
       "      <td>28787</td>\n",
       "      <td>243.0</td>\n",
       "      <td>44.0</td>\n",
       "      <td>1.0</td>\n",
       "      <td>2</td>\n",
       "      <td>1</td>\n",
       "      <td>1</td>\n",
       "      <td>211</td>\n",
       "      <td>losers</td>\n",
       "    </tr>\n",
       "    <tr>\n",
       "      <th>...</th>\n",
       "      <td>...</td>\n",
       "      <td>...</td>\n",
       "      <td>...</td>\n",
       "      <td>...</td>\n",
       "      <td>...</td>\n",
       "      <td>...</td>\n",
       "      <td>...</td>\n",
       "      <td>...</td>\n",
       "      <td>...</td>\n",
       "    </tr>\n",
       "    <tr>\n",
       "      <th>4628</th>\n",
       "      <td>2694886</td>\n",
       "      <td>236.0</td>\n",
       "      <td>69.0</td>\n",
       "      <td>NaN</td>\n",
       "      <td>4</td>\n",
       "      <td>5</td>\n",
       "      <td>3</td>\n",
       "      <td>453</td>\n",
       "      <td>speed up a little</td>\n",
       "    </tr>\n",
       "    <tr>\n",
       "      <th>4629</th>\n",
       "      <td>2694933</td>\n",
       "      <td>230.0</td>\n",
       "      <td>73.0</td>\n",
       "      <td>NaN</td>\n",
       "      <td>5</td>\n",
       "      <td>5</td>\n",
       "      <td>4</td>\n",
       "      <td>554</td>\n",
       "      <td>excellent students</td>\n",
       "    </tr>\n",
       "    <tr>\n",
       "      <th>4630</th>\n",
       "      <td>2695608</td>\n",
       "      <td>237.0</td>\n",
       "      <td>73.0</td>\n",
       "      <td>NaN</td>\n",
       "      <td>4</td>\n",
       "      <td>5</td>\n",
       "      <td>4</td>\n",
       "      <td>454</td>\n",
       "      <td>speed up a little</td>\n",
       "    </tr>\n",
       "    <tr>\n",
       "      <th>4631</th>\n",
       "      <td>2697181</td>\n",
       "      <td>230.0</td>\n",
       "      <td>80.0</td>\n",
       "      <td>NaN</td>\n",
       "      <td>5</td>\n",
       "      <td>5</td>\n",
       "      <td>4</td>\n",
       "      <td>554</td>\n",
       "      <td>excellent students</td>\n",
       "    </tr>\n",
       "    <tr>\n",
       "      <th>4632</th>\n",
       "      <td>2698251</td>\n",
       "      <td>234.0</td>\n",
       "      <td>44.0</td>\n",
       "      <td>NaN</td>\n",
       "      <td>4</td>\n",
       "      <td>5</td>\n",
       "      <td>1</td>\n",
       "      <td>451</td>\n",
       "      <td>speed up a little</td>\n",
       "    </tr>\n",
       "  </tbody>\n",
       "</table>\n",
       "<p>4633 rows × 9 columns</p>\n",
       "</div>"
      ],
      "text/plain": [
       "      id_student  Recency  Monetary  Frequency  R  F  M RFM Score  \\\n",
       "0          23698    243.0      80.0        1.0  2  1  4       214   \n",
       "1          24213    236.0      58.0        1.0  4  1  2       412   \n",
       "2          27116    243.0      96.0        1.0  2  1  5       215   \n",
       "3          28046    237.0      40.0        1.0  4  1  1       411   \n",
       "4          28787    243.0      44.0        1.0  2  1  1       211   \n",
       "...          ...      ...       ...        ... .. .. ..       ...   \n",
       "4628     2694886    236.0      69.0        NaN  4  5  3       453   \n",
       "4629     2694933    230.0      73.0        NaN  5  5  4       554   \n",
       "4630     2695608    237.0      73.0        NaN  4  5  4       454   \n",
       "4631     2697181    230.0      80.0        NaN  5  5  4       554   \n",
       "4632     2698251    234.0      44.0        NaN  4  5  1       451   \n",
       "\n",
       "                 Segment  \n",
       "0                 losers  \n",
       "1         need attention  \n",
       "2                 losers  \n",
       "3         need attention  \n",
       "4                 losers  \n",
       "...                  ...  \n",
       "4628   speed up a little  \n",
       "4629  excellent students  \n",
       "4630   speed up a little  \n",
       "4631  excellent students  \n",
       "4632   speed up a little  \n",
       "\n",
       "[4633 rows x 9 columns]"
      ]
     },
     "execution_count": 68,
     "metadata": {},
     "output_type": "execute_result"
    }
   ],
   "source": [
    "rfm"
   ]
  },
  {
   "cell_type": "markdown",
   "metadata": {},
   "source": [
    "Делаю визуализацию сегментов. Цветом выделяю сегменты студентов с хорошими результатами."
   ]
  },
  {
   "cell_type": "code",
   "execution_count": 70,
   "metadata": {},
   "outputs": [
    {
     "data": {
      "image/png": "[encoded data removed]",
      "text/plain": [
       "<Figure size 432x288 with 1 Axes>"
      ]
     },
     "metadata": {
      "needs_background": "light"
     },
     "output_type": "display_data"
    }
   ],
   "source": [
    "segments_counts = rfm['Segment'].value_counts().sort_values(ascending=True)\n",
    "\n",
    "fig, ax = plt.subplots()\n",
    "\n",
    "bars = ax.barh(range(len(segments_counts)),\n",
    "              segments_counts,\n",
    "              color='silver')\n",
    "ax.set_frame_on(False)\n",
    "ax.tick_params(left=False,\n",
    "               bottom=False,\n",
    "               labelbottom=False)\n",
    "ax.set_yticks(range(len(segments_counts)))\n",
    "ax.set_yticklabels(segments_counts.index)\n",
    "\n",
    "for i, bar in enumerate(bars):\n",
    "        value = bar.get_width()\n",
    "        if segments_counts.index[i] in ['excellent students', 'perfectionists', 'speed up a little']:\n",
    "            bar.set_color('firebrick')\n",
    "        ax.text(value,\n",
    "                bar.get_y() + bar.get_height()/2,\n",
    "                '{:,} ({:}%)'.format(int(value),\n",
    "                                   int(value*100/segments_counts.sum())),\n",
    "                va='center',\n",
    "                ha='left'\n",
    "               )\n",
    "\n",
    "plt.show()"
   ]
  }
 ],
 "metadata": {
  "kernelspec": {
   "display_name": "Python 3",
   "language": "python",
   "name": "python3"
  },
  "language_info": {
   "codemirror_mode": {
    "name": "ipython",
    "version": 3
   },
   "file_extension": ".py",
   "mimetype": "text/x-python",
   "name": "python",
   "nbconvert_exporter": "python",
   "pygments_lexer": "ipython3",
   "version": "3.7.3"
  }
 },
 "nbformat": 4,
 "nbformat_minor": 4
}
